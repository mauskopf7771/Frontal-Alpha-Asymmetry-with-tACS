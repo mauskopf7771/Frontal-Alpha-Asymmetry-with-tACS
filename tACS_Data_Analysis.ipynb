{
 "cells": [
  {
   "cell_type": "markdown",
   "id": "52e5be2d",
   "metadata": {},
   "source": [
    "## The output of the code has been redacted in order to preserve paritipant data. What is observed in this notebook can be viewed in the associated paper which is being prepared for publication"
   ]
  },
  {
   "cell_type": "code",
   "execution_count": null,
   "id": "556da12a",
   "metadata": {},
   "outputs": [],
   "source": [
    "# Import Python Packages\n",
    "import numpy as np\n",
    "import pandas as pd\n",
    "import os\n",
    "import matplotlib.pyplot as plt\n",
    "from scipy import stats\n",
    "from sklearn.linear_model import LinearRegression\n",
    "import seaborn as sns\n",
    "from scipy.stats import shapiro\n",
    "from scipy.stats import spearmanr\n",
    "from sklearn.experimental import enable_iterative_imputer\n",
    "from sklearn.impute import IterativeImputer\n",
    "from scipy.stats.mstats import winsorize\n",
    "from scipy.stats import chi2\n",
    "import statsmodels.api as sm\n",
    "from scipy.stats import kstest\n",
    "from scipy.stats import wilcoxon\n",
    "import statsmodels.formula.api as smf\n",
    "from scipy.stats import levene\n",
    "import statsmodels.api as sm"
   ]
  },
  {
   "cell_type": "code",
   "execution_count": null,
   "id": "30f37056",
   "metadata": {},
   "outputs": [],
   "source": [
    "#Load in Data\n",
    "os.chdir('/Users/[REDACTED]/Desktop/tACS_Pilot_Study')\n",
    "df = pd.read_spss('tACS_Reanalysis_20220208_noSevereBAI.sav')\n",
    "pd.set_option('display.max_rows', 500)\n",
    "pd.set_option('display.max_columns', 500)\n",
    "display(df)"
   ]
  },
  {
   "cell_type": "markdown",
   "id": "a46be1d5",
   "metadata": {},
   "source": [
    "Missing Data Analysis \n",
    "Visual inspection shows N=8, only one participant is sowing NaNs. Column wise, this means that there is 12.5%\n",
    "Missing data - This means that data imputation would not be feasible. \n",
    "\n",
    "HOWEVER, a recent paper by Madley-Dowd et al. (2019) showed MI is still valid up to 90% missing data so MI will be used to impute the missing FAA values. "
   ]
  },
  {
   "cell_type": "code",
   "execution_count": null,
   "id": "5ec32cef",
   "metadata": {},
   "outputs": [],
   "source": [
    "# Extract relevant Data for graphs\n",
    "df2 = df[['Day1PeakAsym','Day3PeakAsym','Day1PreSAS','Day3PostSAS','Day1PreBAI','Day3PostBAI','Day1PreBDI',\n",
    "          'Day3PostBDI','Day1PrePANAS_P','Day3PostPANAS_P','Day1PrePANAS_N','Day3PostPANAS_N']]\n",
    "display(df2)"
   ]
  },
  {
   "cell_type": "code",
   "execution_count": null,
   "id": "e0188370",
   "metadata": {},
   "outputs": [],
   "source": [
    "#Multiple Imputation\n",
    "imp = IterativeImputer(max_iter=10, random_state=0)\n",
    "imp.fit(df2)\n",
    "IterativeImputer(random_state=0)\n",
    "X_test = df2\n",
    "# the model learns that the second feature is double the first\n",
    "display(imp.transform(X_test))"
   ]
  },
  {
   "cell_type": "markdown",
   "id": "9531414e",
   "metadata": {},
   "source": [
    "Multiple imputation has provided the first Day1PeakAsym as [REDACTED] and the Day3PeakAsym as [REDACTED]. \n",
    "\n",
    "The df.replace() function wasn't working so I manually imported it into the dataset"
   ]
  },
  {
   "cell_type": "code",
   "execution_count": null,
   "id": "6ae5f9c2",
   "metadata": {},
   "outputs": [],
   "source": [
    "df3 = pd.read_csv('tACS_Reanalysis_20220208_noSevereBAI.csv')\n",
    "df3 = df3[['Day1PeakAsym','Day3PeakAsym','Day1PreSAS','Day3PostSAS','Day1PreBAI','Day3PostBAI','Day1PreBDI',\n",
    "          'Day3PostBDI','Day1PrePANAS_P','Day3PostPANAS_P','Day1PrePANAS_N','Day3PostPANAS_N']]\n",
    "display(df3)"
   ]
  },
  {
   "cell_type": "markdown",
   "id": "01bee63c",
   "metadata": {},
   "source": [
    "Now that multiple imputation has been completed. We can move on to the assessment of the following:\n",
    "Outliers (Univariate and multivariate)\n",
    "Normality\n",
    "This will dictate the type of correlation that will be used - because the sample size is small it'll likely that spearman's will be used anyway. "
   ]
  },
  {
   "cell_type": "code",
   "execution_count": null,
   "id": "48dded7f",
   "metadata": {},
   "outputs": [],
   "source": [
    "sns.set(rc={\"figure.figsize\":(25, 10)})\n",
    "sns.boxplot(data = df3)"
   ]
  },
  {
   "cell_type": "markdown",
   "id": "19b72017",
   "metadata": {},
   "source": [
    "As can be seen here: There are 2 outliers in the Day1PeakAsym and an outlier in the Day3PostBDI. \n",
    "To mitigate these outliers, I prefer to winsorize the data. As the датасет is very small, it's better to winzorise than to remove outliers. Preserving data as much as possible. "
   ]
  },
  {
   "cell_type": "code",
   "execution_count": null,
   "id": "cc21c6f0",
   "metadata": {},
   "outputs": [],
   "source": [
    "#Create variable with Day1PeakAsym winsorized. \n",
    "df3['Day1PeakAsym_win'] = winsorize(df3['Day1PeakAsym'], (0.3, 0.1))\n",
    "display(df3)\n",
    "sns.boxplot(data = df3)"
   ]
  },
  {
   "cell_type": "code",
   "execution_count": null,
   "id": "0c0fb494",
   "metadata": {},
   "outputs": [],
   "source": [
    "#Create variable with Day3PostBAI winsorized. \n",
    "df3['Day3PostBAI_win'] = winsorize(df3['Day3PostBAI'], (0.1, 0.2))\n",
    "display(df3)\n",
    "sns.boxplot(data = df3)"
   ]
  },
  {
   "cell_type": "markdown",
   "id": "8aea429c",
   "metadata": {},
   "source": [
    "Remove the variables that are now redundant: These are the Day1PeakAsym & Day3PostBAI"
   ]
  },
  {
   "cell_type": "code",
   "execution_count": null,
   "id": "4ed38801",
   "metadata": {},
   "outputs": [],
   "source": [
    "df4 = df3[['Day1PeakAsym_win','Day3PeakAsym','Day1PreSAS','Day3PostSAS','Day1PreBAI','Day3PostBAI_win','Day1PreBDI',\n",
    "          'Day3PostBDI','Day1PrePANAS_P','Day3PostPANAS_P','Day1PrePANAS_N','Day3PostPANAS_N']]\n",
    "display(df4)"
   ]
  },
  {
   "cell_type": "markdown",
   "id": "e742e12e",
   "metadata": {},
   "source": [
    "Now we have this done, we can identify multivariate outliers using mahalanobis distance"
   ]
  },
  {
   "cell_type": "code",
   "execution_count": null,
   "id": "379643b8",
   "metadata": {},
   "outputs": [],
   "source": [
    "def mahalanobis(x=None, data=None, cov=None):\n",
    "\n",
    "    x_mu = x - np.mean(df4)\n",
    "    if not cov:\n",
    "        cov = np.cov(df4.values.T)\n",
    "    inv_covmat = np.linalg.inv(cov)\n",
    "    left = np.dot(x_mu, inv_covmat)\n",
    "    mahal = np.dot(left, x_mu.T)\n",
    "    return mahal.diagonal()"
   ]
  },
  {
   "cell_type": "code",
   "execution_count": null,
   "id": "0bf9576a",
   "metadata": {},
   "outputs": [],
   "source": [
    "df4['mahalanobis'] = mahalanobis(x=df4, data=df4[['Day1PeakAsym_win', 'Day3PeakAsym', 'Day1PreSAS', 'Day3PostSAS', \n",
    "                                                 'Day3PostSAS', 'Day1PreBAI', 'Day3PostBAI_win', 'Day1PreBDI',\n",
    "                                                'Day3PostBDI', 'Day1PrePANAS_P', 'Day3PostPANAS_P', 'Day1PrePANAS_N', \n",
    "                                                 'Day3PostPANAS_N']])\n",
    "display(df4)"
   ]
  },
  {
   "cell_type": "code",
   "execution_count": null,
   "id": "89db4f9f",
   "metadata": {},
   "outputs": [],
   "source": [
    "#Calculate Mahalanobis p value\n",
    "df4['p'] = 1 - chi2.cdf(df4['mahalanobis'], 11)\n",
    "display(df4)"
   ]
  },
  {
   "cell_type": "markdown",
   "id": "943db769",
   "metadata": {},
   "source": [
    "Mahalanobis distance df is N-1. The p values show there are no multivariate outliers. The threshold is typically p <.001."
   ]
  },
  {
   "cell_type": "markdown",
   "id": "1def2ed3",
   "metadata": {},
   "source": [
    "The next thing to assess is normality. The sample size is small so non-parametric testing will be used anyway, it's worth checking nonetheless. the boxplots also suggest most variables will be non-normal.\n",
    "\n",
    "For normality. The Kolmogorov-Smirnov test was used because it is a nonparametric test and with small sample sizes like this, probably the better test. "
   ]
  },
  {
   "cell_type": "code",
   "execution_count": null,
   "id": "94eb8b7b",
   "metadata": {},
   "outputs": [],
   "source": [
    "plt.hist(df4['Day1PeakAsym_win'])\n",
    "sm.qqplot(df4['Day1PeakAsym_win'], line='45')\n",
    "kstest(df4['Day1PeakAsym_win'], 'norm')"
   ]
  },
  {
   "cell_type": "markdown",
   "id": "ac26500d",
   "metadata": {},
   "source": [
    "The graphs show large deviation from normality, further confirmed by the Kolmogorov-Smirnov test statistic. Shapiro-Wilk was run which suggested from the analysis that the data was normally distributed, thus also confirming the use of Kolmogorov-Smirnov over Shapiro-Wilk"
   ]
  },
  {
   "cell_type": "code",
   "execution_count": null,
   "id": "c65c53cf",
   "metadata": {},
   "outputs": [],
   "source": [
    "plt.hist(df4['Day3PeakAsym'])\n",
    "sm.qqplot(df4['Day3PeakAsym'], line='45')\n",
    "kstest(df4['Day3PeakAsym'], 'norm')"
   ]
  },
  {
   "cell_type": "code",
   "execution_count": null,
   "id": "9c22c6ff",
   "metadata": {},
   "outputs": [],
   "source": [
    "plt.hist(df4['Day1PreSAS'])\n",
    "sm.qqplot(df4['Day1PreSAS'], line='45')\n",
    "kstest(df4['Day1PreSAS'], 'norm')"
   ]
  },
  {
   "cell_type": "code",
   "execution_count": null,
   "id": "2be4bc70",
   "metadata": {},
   "outputs": [],
   "source": [
    "plt.hist(df4['Day3PostSAS'])\n",
    "sm.qqplot(df4['Day3PostSAS'], line='45')\n",
    "kstest(df4['Day3PostSAS'], 'norm')"
   ]
  },
  {
   "cell_type": "code",
   "execution_count": null,
   "id": "53d6658c",
   "metadata": {},
   "outputs": [],
   "source": [
    "plt.hist(df4['Day1PreBAI'])\n",
    "sm.qqplot(df4['Day1PreBAI'], line='45')\n",
    "kstest(df4['Day1PreBAI'], 'norm')"
   ]
  },
  {
   "cell_type": "code",
   "execution_count": null,
   "id": "ac519b54",
   "metadata": {},
   "outputs": [],
   "source": [
    "plt.hist(df4['Day3PostBAI_win'])\n",
    "sm.qqplot(df4['Day3PostBAI_win'], line='45')\n",
    "kstest(df4['Day3PostBAI_win'], 'norm')"
   ]
  },
  {
   "cell_type": "code",
   "execution_count": null,
   "id": "2cca15b2",
   "metadata": {},
   "outputs": [],
   "source": [
    "plt.hist(df4['Day1PreBDI'])\n",
    "sm.qqplot(df4['Day1PreBDI'], line='45')\n",
    "kstest(df4['Day1PreBDI'], 'norm')"
   ]
  },
  {
   "cell_type": "code",
   "execution_count": null,
   "id": "2f49283f",
   "metadata": {},
   "outputs": [],
   "source": [
    "plt.hist(df4['Day3PostBDI'])\n",
    "sm.qqplot(df4['Day3PostBDI'], line='45')\n",
    "kstest(df4['Day3PostBDI'], 'norm')"
   ]
  },
  {
   "cell_type": "code",
   "execution_count": null,
   "id": "adf1a53e",
   "metadata": {},
   "outputs": [],
   "source": [
    "plt.hist(df4['Day1PrePANAS_P'])\n",
    "sm.qqplot(df4['Day1PrePANAS_P'], line='45')\n",
    "kstest(df4['Day1PrePANAS_P'], 'norm')"
   ]
  },
  {
   "cell_type": "code",
   "execution_count": null,
   "id": "84258316",
   "metadata": {},
   "outputs": [],
   "source": [
    "plt.hist(df4['Day3PostPANAS_P'])\n",
    "sm.qqplot(df4['Day3PostPANAS_P'], line='45')\n",
    "kstest(df4['Day3PostPANAS_P'], 'norm')"
   ]
  },
  {
   "cell_type": "code",
   "execution_count": null,
   "id": "af1974e6",
   "metadata": {},
   "outputs": [],
   "source": [
    "plt.hist(df4['Day1PrePANAS_N'])\n",
    "sm.qqplot(df4['Day1PrePANAS_N'], line='45')\n",
    "kstest(df4['Day1PeakAsym_win'], 'norm')"
   ]
  },
  {
   "cell_type": "code",
   "execution_count": null,
   "id": "28346e1c",
   "metadata": {},
   "outputs": [],
   "source": [
    "plt.hist(df4['Day3PostPANAS_N'])\n",
    "sm.qqplot(df4['Day3PostPANAS_N'], line='45')\n",
    "kstest(df4['Day3PostPANAS_N'], 'norm')"
   ]
  },
  {
   "cell_type": "markdown",
   "id": "a5e2cd95",
   "metadata": {},
   "source": [
    "Across all variables, p values varied, histograms and QQ plots suggested deviations from normality across all variables. Boxplots also confirmed that none of these variables are normally distributed. 8 cases is likely to mean the p value for normality tests are unstable."
   ]
  },
  {
   "cell_type": "markdown",
   "id": "54203f07",
   "metadata": {},
   "source": []
  },
  {
   "cell_type": "code",
   "execution_count": null,
   "id": "e9ee3362",
   "metadata": {},
   "outputs": [],
   "source": [
    "#Linearity\n",
    "pd.plotting.scatter_matrix(df4[['Day1PeakAsym_win', 'Day3PeakAsym', 'Day1PreSAS', 'Day3PostSAS', 'Day1PreBAI', 'Day3PostBAI_win', 'Day1PreBDI',\n",
    "            'Day3PostBDI', 'Day1PrePANAS_P', 'Day3PostPANAS_P', 'Day1PrePANAS_N', 'Day3PostPANAS_N']],\n",
    "                           alpha = 1, figsize = [25, 25]);"
   ]
  },
  {
   "cell_type": "code",
   "execution_count": null,
   "id": "58ecc847",
   "metadata": {},
   "outputs": [],
   "source": [
    "spearmancorr1 = spearmanr(df4[['Day1PeakAsym_win', 'Day3PeakAsym', 'Day1PreSAS', 'Day3PostSAS', 'Day1PreBAI', 'Day3PostBAI_win', 'Day1PreBDI',\n",
    "            'Day3PostBDI', 'Day1PrePANAS_P', 'Day3PostPANAS_P', 'Day1PrePANAS_N', 'Day3PostPANAS_N']], axis = 0)\n",
    "display(spearmancorr1)"
   ]
  },
  {
   "cell_type": "markdown",
   "id": "e7e2b834",
   "metadata": {},
   "source": [
    "Create dataframes to display these results in a slightly more paletable way: "
   ]
  },
  {
   "cell_type": "code",
   "execution_count": null,
   "id": "6e0415aa",
   "metadata": {},
   "outputs": [],
   "source": [
    "variables = ([['Day1PeakAsym_win', 'Day3PeakAsym', 'Day1PreSAS', 'Day3PostSAS', 'Day1PreBAI', 'Day3PostBAI_win', 'Day1PreBDI',\n",
    "            'Day3PostBDI', 'Day1PrePANAS_P', 'Day3PostPANAS_P', 'Day1PrePANAS_N', 'Day3PostPANAS_N']])\n",
    "\n",
    "corvals = pd.DataFrame([[1.        ,  0.15256429, -0.61025715, -0.30770355,  0.11915865,\n",
    "        -0.16309163, -0.29789662, -0.41705526,  0.37293493,  0.40854393,\n",
    "        -0.45769286, -0.08040844],\n",
    "       [ 0.15256429,  1.        , -0.55      , -0.80675117, -0.62762056,\n",
    "        -0.88614695, -0.52720127, -0.42678198,  0.5       ,  0.76151294,\n",
    "        -0.58333333, -0.25473903],\n",
    "       [-0.61025715, -0.55      ,  1.        ,  0.72271459,  0.4853599 ,\n",
    "         0.23630585,  0.6443571 ,  0.55230609, -0.35      , -0.37657233,\n",
    "         0.6       ,  0.07905694],\n",
    "       [-0.30770355, -0.80675117,  0.72271459,  1.        ,  0.43882247,\n",
    "         0.64255901,  0.49789473,  0.75528098, -0.63867801, -0.75950043,\n",
    "         0.53783412,  0.56692694],\n",
    "       [ 0.11915865, -0.62762056,  0.4853599 ,  0.43882247,  1.        ,\n",
    "         0.30085826,  0.82773109, -0.05462185, -0.20920685, -0.09243697,\n",
    "         0.69456675, -0.22934432],\n",
    "       [-0.16309163, -0.88614695,  0.23630585,  0.64255901,  0.30085826,\n",
    "         1.        ,  0.23305922,  0.42798147, -0.59920413, -0.89833734,\n",
    "         0.42197474,  0.30691229],\n",
    "       [-0.29789662, -0.52720127,  0.6443571 ,  0.49789473,  0.82773109,\n",
    "         0.23305922,  1.        ,  0.23109244, -0.41004543, -0.21848739,\n",
    "         0.91214188, -0.07938842],\n",
    "       [-0.41705526, -0.42678198,  0.55230609,  0.75528098, -0.05462185,\n",
    "         0.42798147,  0.23109244,  1.        , -0.7113033 , -0.74369748,\n",
    "         0.32636269,  0.55571893],\n",
    "       [ 0.37293493,  0.5       , -0.35      , -0.63867801, -0.20920685,\n",
    "        -0.59920413, -0.41004543, -0.7113033 ,  1.        ,  0.78661776,\n",
    "        -0.66666667, -0.36893239],\n",
    "       [ 0.40854393,  0.76151294, -0.37657233, -0.75950043, -0.09243697,\n",
    "        -0.89833734, -0.21848739, -0.74369748,  0.78661776,  1.        ,\n",
    "        -0.44351853, -0.48515145],\n",
    "       [-0.45769286, -0.58333333,  0.6       ,  0.53783412,  0.69456675,\n",
    "         0.42197474,  0.91214188,  0.32636269, -0.66666667, -0.44351853,\n",
    "         1.        ,  0.04392052],\n",
    "       [-0.08040844, -0.25473903,  0.07905694,  0.56692694, -0.22934432,\n",
    "         0.30691229, -0.07938842,  0.55571893, -0.36893239, -0.48515145,\n",
    "         0.04392052,  1.        ]], variables, variables)\n",
    "\n",
    "pvals = pd.DataFrame([[0.00000000e+00, 6.95164092e-01, 8.09396701e-02, 4.20527287e-01,\n",
    "        7.60105950e-01, 6.75029099e-01, 4.36236135e-01, 2.64094827e-01,\n",
    "        3.22898563e-01, 2.74963884e-01, 2.15411703e-01, 8.37073284e-01],\n",
    "       [6.95164092e-01, 0.00000000e+00, 1.24976784e-01, 8.59808327e-03,\n",
    "        7.03650228e-02, 1.46441911e-03, 1.44699332e-01, 2.51956690e-01,\n",
    "        1.70470661e-01, 1.71171255e-02, 9.91858165e-02, 5.08299873e-01],\n",
    "       [8.09396701e-02, 1.24976784e-01, 0.00000000e+00, 2.78302399e-02,\n",
    "        1.85353818e-01, 5.40443782e-01, 6.10329577e-02, 1.23076630e-01,\n",
    "        3.55819573e-01, 3.17822682e-01, 8.76228290e-02, 8.39782984e-01],\n",
    "       [4.20527287e-01, 8.59808327e-03, 2.78302399e-02, 0.00000000e+00,\n",
    "        2.37352707e-01, 6.19957144e-02, 1.72567247e-01, 1.86107044e-02,\n",
    "        6.41062083e-02, 1.75903842e-02, 1.35288910e-01, 1.11431747e-01],\n",
    "       [7.60105950e-01, 7.03650228e-02, 1.85353818e-01, 2.37352707e-01,\n",
    "        0.00000000e+00, 4.31465115e-01, 5.87748490e-03, 8.89001573e-01,\n",
    "        5.89047241e-01, 8.13024659e-01, 3.78640538e-02, 5.52781099e-01],\n",
    "       [6.75029099e-01, 1.46441911e-03, 5.40443782e-01, 6.19957144e-02,\n",
    "        4.31465115e-01, 4.74758611e-56, 5.46184354e-01, 2.50480845e-01,\n",
    "        8.81551018e-02, 9.97418051e-04, 2.57917859e-01, 4.21785170e-01],\n",
    "       [4.36236135e-01, 1.44699332e-01, 6.10329577e-02, 1.72567247e-01,\n",
    "        5.87748490e-03, 5.46184354e-01, 0.00000000e+00, 5.49673144e-01,\n",
    "        2.73029747e-01, 5.72229255e-01, 6.06850679e-04, 8.39118250e-01],\n",
    "       [2.64094827e-01, 2.51956690e-01, 1.23076630e-01, 1.86107044e-02,\n",
    "        8.89001573e-01, 2.50480845e-01, 5.49673144e-01, 0.00000000e+00,\n",
    "        3.16565570e-02, 2.16118918e-02, 3.91360449e-01, 1.20296343e-01],\n",
    "       [3.22898563e-01, 1.70470661e-01, 3.55819573e-01, 6.41062083e-02,\n",
    "        5.89047241e-01, 8.81551018e-02, 2.73029747e-01, 3.16565570e-02,\n",
    "        0.00000000e+00, 1.19092120e-02, 4.98672306e-02, 3.28530352e-01],\n",
    "       [2.74963884e-01, 1.71171255e-02, 3.17822682e-01, 1.75903842e-02,\n",
    "        8.13024659e-01, 9.97418051e-04, 5.72229255e-01, 2.16118918e-02,\n",
    "        1.19092120e-02, 0.00000000e+00, 2.31784065e-01, 1.85570845e-01],\n",
    "       [2.15411703e-01, 9.91858165e-02, 8.76228290e-02, 1.35288910e-01,\n",
    "        3.78640538e-02, 2.57917859e-01, 6.06850679e-04, 3.91360449e-01,\n",
    "        4.98672306e-02, 2.31784065e-01, 0.00000000e+00, 9.10669551e-01],\n",
    "       [8.37073284e-01, 5.08299873e-01, 8.39782984e-01, 1.11431747e-01,\n",
    "        5.52781099e-01, 4.21785170e-01, 8.39118250e-01, 1.20296343e-01,\n",
    "        3.28530352e-01, 1.85570845e-01, 9.10669551e-01, 0.00000000e+00]], variables, variables)"
   ]
  },
  {
   "cell_type": "code",
   "execution_count": null,
   "id": "1a7a4444",
   "metadata": {},
   "outputs": [],
   "source": [
    "display(corvals)\n",
    "# Correlaton coefficients"
   ]
  },
  {
   "cell_type": "code",
   "execution_count": null,
   "id": "84d0ca14",
   "metadata": {},
   "outputs": [],
   "source": [
    "display(pvals)\n",
    "# P values"
   ]
  },
  {
   "cell_type": "code",
   "execution_count": null,
   "id": "e28b2e92",
   "metadata": {},
   "outputs": [],
   "source": [
    "#Heatmaps to make correlations easier to visualise\n",
    "sns.heatmap(corvals, annot = True)"
   ]
  },
  {
   "cell_type": "code",
   "execution_count": null,
   "id": "7289cb11",
   "metadata": {},
   "outputs": [],
   "source": [
    "sns.heatmap(pvals, annot = True)"
   ]
  },
  {
   "cell_type": "markdown",
   "id": "88014f85",
   "metadata": {},
   "source": [
    "The correlations show the following:\n",
    "significant correlations for \n",
    "\n",
    "Day3PostSAS & Day3PeakAsym\n",
    "\n",
    "Day3PostBAI_win & Day3PostPANAS_P\n",
    "\n",
    "Day3PostSAS & Day1PreSAS\n",
    "\n",
    "Day3PostBDI & Day3PostSAS\n",
    "\n",
    "Day3PostPANAS_P & Day3PostSAS \n",
    "\n",
    "Day1PreBDI & Day1PreBAI\n",
    "\n",
    "Day3PostPANAS_P & Day3PostBAI_win\n",
    "\n",
    "Day1PrePANAS_N & Day1PreBDI\n",
    "\n",
    "Day1PrePANAS_P & Day3PostBDI\n",
    "\n",
    "Day3PostPANAS_P & Day3PostBDI\n",
    "\n",
    "Day3PostPANAS_P & Day1PrePANAS_P\n",
    "\n",
    "Day1PrePANAS_N & Day1PrePANAS_P"
   ]
  },
  {
   "cell_type": "markdown",
   "id": "bab43394",
   "metadata": {},
   "source": [
    "Wilcoxon Signed Ranks Test"
   ]
  },
  {
   "cell_type": "code",
   "execution_count": null,
   "id": "2739f982",
   "metadata": {},
   "outputs": [],
   "source": [
    "wilcoxon(df4['Day1PeakAsym_win'], df4['Day3PeakAsym'], mode = 'approx')"
   ]
  },
  {
   "cell_type": "code",
   "execution_count": null,
   "id": "16f7ebe4",
   "metadata": {},
   "outputs": [],
   "source": [
    "wilcoxon(df4['Day1PreSAS'], df4['Day3PostSAS'], mode = 'approx')"
   ]
  },
  {
   "cell_type": "code",
   "execution_count": null,
   "id": "376cbcc0",
   "metadata": {},
   "outputs": [],
   "source": [
    "wilcoxon(df4['Day1PreBAI'], df4['Day3PostBAI_win'], mode = 'approx')"
   ]
  },
  {
   "cell_type": "code",
   "execution_count": null,
   "id": "f7215eb2",
   "metadata": {},
   "outputs": [],
   "source": [
    "wilcoxon(df4['Day1PreBDI'], df4['Day3PostBDI'], mode = 'approx')"
   ]
  },
  {
   "cell_type": "code",
   "execution_count": null,
   "id": "b0741a71",
   "metadata": {},
   "outputs": [],
   "source": [
    "wilcoxon(df4['Day1PrePANAS_P'], df4['Day3PostPANAS_P'], mode = 'approx')"
   ]
  },
  {
   "cell_type": "code",
   "execution_count": null,
   "id": "b7310203",
   "metadata": {},
   "outputs": [],
   "source": [
    "wilcoxon(df4['Day1PrePANAS_N'], df4['Day3PostPANAS_N'], mode = 'approx')"
   ]
  },
  {
   "cell_type": "code",
   "execution_count": null,
   "id": "a1d9efdd",
   "metadata": {},
   "outputs": [],
   "source": [
    "np.mean(df4)"
   ]
  },
  {
   "cell_type": "markdown",
   "id": "82247bca",
   "metadata": {},
   "source": [
    "Basically; tACS at 10Hz improved SAS scores, BAI scores, BDI scores, and PANAS_N scores. \n",
    "\n",
    "Observations of the means suggested:\n",
    "\n",
    "SAS went down, BAI went down, BDI went down and PANAS_N went down."
   ]
  },
  {
   "cell_type": "markdown",
   "id": "4b46c61f",
   "metadata": {},
   "source": [
    "# Regression"
   ]
  },
  {
   "cell_type": "markdown",
   "id": "f3f28c83",
   "metadata": {},
   "source": [
    "Assumptions:\n",
    "\n",
    "Normality of the DV - however using an OLS model reduces the error variance of the summs of squares thus making normality a non-issue.\n",
    " \n",
    "Homoscedasticity - This will be done by using Levene's test. If the data is normally distributed you can use Bartlett's test\n",
    "\n",
    "Independence - don't do regressions with day1 and day3 of the same measure\n",
    "\n",
    "Linearity - Linear relationships only - not enough cases to establish visually, best way to assess is by using significant correlations. \n",
    "\n",
    "Multicollinearity/Singularity - corrcoefs >.8 will need to be excluded. You can average collinear variables. \n",
    "\n",
    "Collinear Variables:\n",
    "- Day1PreBDI and Day1PreBAI\n",
    "- Day1PrePANAS_N and Day1PreBDI"
   ]
  },
  {
   "cell_type": "markdown",
   "id": "8d00569e",
   "metadata": {},
   "source": [
    "Homoscedasticity via levene's test. "
   ]
  },
  {
   "cell_type": "markdown",
   "id": "cd4125be",
   "metadata": {},
   "source": [
    "Multiple regressions showed no results of interest. Likely because a MR requires 20N per predictor variable - and we're using 9"
   ]
  },
  {
   "cell_type": "markdown",
   "id": "77bb15d1",
   "metadata": {},
   "source": [
    "# Simple Linear Regressions"
   ]
  },
  {
   "cell_type": "markdown",
   "id": "a14da18e",
   "metadata": {},
   "source": [
    "For the assumption of Homoscedasticity: The following regression models would have met the assumption:"
   ]
  },
  {
   "cell_type": "code",
   "execution_count": null,
   "id": "63a3f461-ee83-4106-831e-b87df08dca1c",
   "metadata": {},
   "outputs": [],
   "source": [
    "#Levene's Test for Homoscedasticity\n",
    "stats.levene(df4['Day1PeakAsym_win'], df4['Day1PreSAS'], center = 'mean')"
   ]
  },
  {
   "cell_type": "code",
   "execution_count": null,
   "id": "11f4dd4c-4b0f-49c3-9930-bcb5cfb87022",
   "metadata": {},
   "outputs": [],
   "source": [
    "stats.levene(df4['Day3PeakAsym'], df4['Day3PostSAS'], center = 'mean')"
   ]
  },
  {
   "cell_type": "code",
   "execution_count": null,
   "id": "35cdc887",
   "metadata": {},
   "outputs": [],
   "source": [
    "reg1 = smf.ols('Day3PostSAS~Day3PeakAsym', data=df4).fit()\n",
    "reg2 = smf.ols('Day1PreSAS~Day1PeakAsym_win', data=df4).fit()"
   ]
  },
  {
   "cell_type": "code",
   "execution_count": null,
   "id": "ebf67d71",
   "metadata": {},
   "outputs": [],
   "source": [
    "display(reg1.summary())\n",
    "\n",
    "fig_reg1 = plt.figure(figsize=(12,8))\n",
    "fig_reg1 = sm.graphics.plot_regress_exog(reg1, 'Day3PeakAsym', fig = fig_reg1)"
   ]
  },
  {
   "cell_type": "code",
   "execution_count": null,
   "id": "e49a3b12",
   "metadata": {},
   "outputs": [],
   "source": [
    "display(reg2.summary())\n",
    "\n",
    "fig_reg2 = plt.figure(figsize=(12,8))\n",
    "fig_reg2 = sm.graphics.plot_regress_exog(reg2, 'Day1PeakAsym_win', fig = fig_reg2)"
   ]
  },
  {
   "cell_type": "markdown",
   "id": "f669c960-aff7-4de8-a05f-f308b0b988ac",
   "metadata": {},
   "source": [
    "The issue with these regression models is that although levene's test was non-significant for both models, the residual plots show coning suggesting that the data is not homoscedasticstic. Due to how many participants are in the sample, I'd trust the plot over the test. Therefore, the assumption of Homoscedasticity is breached. Observations of Residuals show evidence of coning in both regression models so the p values are likely invalidated. This is further supported by the lack of power and participants"
   ]
  },
  {
   "cell_type": "markdown",
   "id": "f81702b2",
   "metadata": {},
   "source": [
    "# Graphs"
   ]
  },
  {
   "cell_type": "markdown",
   "id": "055a02f7",
   "metadata": {},
   "source": [
    "## Bar Graph showing pre & post changes"
   ]
  },
  {
   "cell_type": "code",
   "execution_count": null,
   "id": "35ecd02b",
   "metadata": {},
   "outputs": [],
   "source": [
    "plt.savefig('bargraph.jpg')  \n",
    "plt.rc('font', size=15)\n",
    "\n",
    "Day1 = [-2.51, 34.8, 14.7, 14.8, 29.2, 24.0]\n",
    "Day3 = [-0.26, 28.1, 3.33, 7.33, 30.4, 13.7]\n",
    "Day1err = [1.76, 1.75, 2.77, 2.56, 2.94, 2.28] \n",
    "Day3err = [1.40, 1.32, 1.26, 1.30, 3.47, 0.86]\n",
    "\n",
    "x = ['FAA', 'SAS', 'BAI', 'BDI', 'PANAS(P)', 'PANAS(N)']\n",
    "lgnd = ['Day 1', 'Day 3']\n",
    "f = plt.figure()\n",
    "f.set_figwidth(10)\n",
    "f.set_figheight(10)\n",
    "\n",
    "width =0.3\n",
    "plt.bar(x, Day1, width=width)\n",
    "plt.bar(np.arange(len(Day3)) + width, Day3, width=width)\n",
    "plt.legend(lgnd,loc=1)\n",
    "plt.errorbar(x, Day1, yerr=Day1err, color = 'black', linestyle = '', capsize = 5)\n",
    "plt.errorbar(np.arange(len(Day3))+ width, Day3, yerr=Day3err, color = 'black', linestyle = '', \n",
    "             capsize = 5)\n",
    "#plt.title('Changes in Self Reported Measures of, Depression, Anxiety and \n",
    "            #\\n Affect between Day 1 and Day 3. \\n', weight='bold')\n",
    "plt.xlabel('measure')\n",
    "plt.ylabel('score')\n",
    "plt.show() "
   ]
  },
  {
   "cell_type": "markdown",
   "id": "26f59e04",
   "metadata": {},
   "source": [
    "## Scatter Plot for FAA and BAI at Day 1 and Day 3"
   ]
  },
  {
   "cell_type": "markdown",
   "id": "4ec203d7",
   "metadata": {},
   "source": [
    "Worth noting, the points on the graph are not even, because 2 of the blue and orange dots have the exact same coordinates."
   ]
  },
  {
   "cell_type": "code",
   "execution_count": null,
   "id": "4b2dc6cc",
   "metadata": {
    "tags": []
   },
   "outputs": [],
   "source": [
    "f = plt.figure()\n",
    "f.set_figwidth(8)\n",
    "f.set_figheight(8)\n",
    "plt.title('Scatterplot of Peak Asymmetry and SAS \\n at Day 1 and Day 3 \\n', weight='bold')\n",
    "plt.xlabel('\\n Peak Asymmetry \\n')\n",
    "plt.ylabel('SAS \\n')\n",
    "line1, = plt.plot(1, marker='o', label='Day 1')\n",
    "line2, = plt.plot(1, marker='o', label='Day 3')\n",
    "plt.legend()\n",
    "plt.xlim(-7, 6)\n",
    "plt.ylim(20, 45)\n",
    "plt.scatter(df4['Day1PeakAsym_win'], df4['Day1PreSAS'])\n",
    "plt.scatter(df4['Day3PeakAsym'], df4['Day3PostSAS'])"
   ]
  },
  {
   "cell_type": "markdown",
   "id": "99183e64",
   "metadata": {},
   "source": [
    "Frontal Alpha Asymmetry (FAA) as a predictor of Anxeity and the efficacy of tACS as a means to reduce this.\n",
    "\n",
    "The predictive utility of Frontal Alpha Asymmetry on Anxiety and the remedial effect of tACS on anxiety, depression and affect."
   ]
  },
  {
   "cell_type": "code",
   "execution_count": null,
   "id": "0eb25640",
   "metadata": {},
   "outputs": [],
   "source": []
  }
 ],
 "metadata": {
  "kernelspec": {
   "display_name": "Python 3 (ipykernel)",
   "language": "python",
   "name": "python3"
  },
  "language_info": {
   "codemirror_mode": {
    "name": "ipython",
    "version": 3
   },
   "file_extension": ".py",
   "mimetype": "text/x-python",
   "name": "python",
   "nbconvert_exporter": "python",
   "pygments_lexer": "ipython3",
   "version": "3.9.7"
  }
 },
 "nbformat": 4,
 "nbformat_minor": 5
}
